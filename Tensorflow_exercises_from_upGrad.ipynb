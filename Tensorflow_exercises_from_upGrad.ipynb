{
  "nbformat": 4,
  "nbformat_minor": 0,
  "metadata": {
    "colab": {
      "provenance": [],
      "authorship_tag": "ABX9TyNzfTBpnfgXdn/8Iu3fB8sx"
    },
    "kernelspec": {
      "name": "python3",
      "display_name": "Python 3"
    },
    "language_info": {
      "name": "python"
    }
  },
  "cells": [
    {
      "cell_type": "code",
      "execution_count": null,
      "metadata": {
        "colab": {
          "base_uri": "https://localhost:8080/"
        },
        "id": "6-ulAyz_zKYz",
        "outputId": "2f8d0d63-ab3c-4967-968b-0b9ca1945827"
      },
      "outputs": [
        {
          "output_type": "stream",
          "name": "stdout",
          "text": [
            "Before changing mean & sd:  tf.Tensor(\n",
            "[[[[-0.5615051  -0.2326495 ]\n",
            "   [ 0.27721112  0.36076089]]\n",
            "\n",
            "  [[ 1.7438801  -1.48454374]\n",
            "   [ 0.15713659  0.08403558]]]\n",
            "\n",
            "\n",
            " [[[ 0.62992475 -1.18302893]\n",
            "   [ 0.70332983 -0.19006275]]\n",
            "\n",
            "  [[-0.25713576  0.35287939]\n",
            "   [ 0.47877209 -0.80558992]]]], shape=(2, 2, 2, 2), dtype=float64)\n",
            "After changing mean & sd:  tf.Tensor(\n",
            "[[[[-0.12301019  0.53470101]\n",
            "   [ 1.55442224  1.72152178]]\n",
            "\n",
            "  [[ 4.4877602  -1.96908748]\n",
            "   [ 1.31427318  1.16807116]]]\n",
            "\n",
            "\n",
            " [[[ 2.25984951 -1.36605785]\n",
            "   [ 2.40665967  0.61987449]]\n",
            "\n",
            "  [[ 0.48572849  1.70575877]\n",
            "   [ 1.95754419 -0.61117983]]]], shape=(2, 2, 2, 2), dtype=float64)\n"
          ]
        }
      ],
      "source": [
        "# Example for sampling from a Normal distribution\n",
        "import tensorflow as tf\n",
        "import numpy as np\n",
        "\n",
        "# create nd array in numpy\n",
        "arr_nm = np.random.randn(2,2,2,2)\n",
        "arr_nm\n",
        "\n",
        "arr_tf = tf.constant(arr_nm)\n",
        "print(\"Before changing mean & sd: \", arr_tf)\n",
        "arr_tf = arr_tf * 2 + 1\n",
        "print(\"After changing mean & sd: \", arr_tf)"
      ]
    },
    {
      "cell_type": "code",
      "source": [
        "# Example for squaring a tensor\n",
        "import tensorflow as tf\n",
        "import numpy as np\n",
        "\n",
        "tensor1 = tf.random.uniform((2,2), minval = 1, maxval = 20, dtype = tf.int32)\n",
        "print(\"Initial tensor: \", tensor1.numpy())\n",
        "# tensor2 = tf.pow(tensor1, 2)\n",
        "# tensor2 = tensor1 * tensor1\n",
        "tensor2 = tf.multiply(tensor1, tensor1)\n",
        "print(\"Squared tensor: \", tensor2.numpy())"
      ],
      "metadata": {
        "colab": {
          "base_uri": "https://localhost:8080/"
        },
        "id": "VViHnWF06JrS",
        "outputId": "82c75c65-134a-420b-b9d1-62adf9f6e46b"
      },
      "execution_count": null,
      "outputs": [
        {
          "output_type": "stream",
          "name": "stdout",
          "text": [
            "Initial tensor:  [[3 3]\n",
            " [1 1]]\n",
            "Squared tensor:  [[9 9]\n",
            " [1 1]]\n"
          ]
        }
      ]
    },
    {
      "cell_type": "code",
      "source": [
        "# Example for throwing error due to unequal dimensions\n",
        "import tensorflow as tf\n",
        "import numpy as np\n",
        "\n",
        "t1 = tf.Variable([[2,3,4], [5,7,9], [1,6,3], [5,8,4]])\n",
        "t2 = tf.Variable([[2,3,4,5], [5,7,9,4], [1,6,3,9]])\n",
        "\n",
        "t3 = t1 + t2"
      ],
      "metadata": {
        "colab": {
          "base_uri": "https://localhost:8080/",
          "height": 333
        },
        "id": "Uw_ka5iF9LfS",
        "outputId": "f61e9aad-1d56-4b7d-dc46-97342a56fd9a"
      },
      "execution_count": null,
      "outputs": [
        {
          "output_type": "error",
          "ename": "InvalidArgumentError",
          "evalue": "{{function_node __wrapped__AddV2_device_/job:localhost/replica:0/task:0/device:CPU:0}} Incompatible shapes: [4,3] vs. [3,4] [Op:AddV2] name: ",
          "traceback": [
            "\u001b[0;31m---------------------------------------------------------------------------\u001b[0m",
            "\u001b[0;31mInvalidArgumentError\u001b[0m                      Traceback (most recent call last)",
            "\u001b[0;32m<ipython-input-6-bcb5a05970e6>\u001b[0m in \u001b[0;36m<cell line: 0>\u001b[0;34m()\u001b[0m\n\u001b[1;32m      6\u001b[0m \u001b[0mt2\u001b[0m \u001b[0;34m=\u001b[0m \u001b[0mtf\u001b[0m\u001b[0;34m.\u001b[0m\u001b[0mVariable\u001b[0m\u001b[0;34m(\u001b[0m\u001b[0;34m[\u001b[0m\u001b[0;34m[\u001b[0m\u001b[0;36m2\u001b[0m\u001b[0;34m,\u001b[0m\u001b[0;36m3\u001b[0m\u001b[0;34m,\u001b[0m\u001b[0;36m4\u001b[0m\u001b[0;34m,\u001b[0m\u001b[0;36m5\u001b[0m\u001b[0;34m]\u001b[0m\u001b[0;34m,\u001b[0m \u001b[0;34m[\u001b[0m\u001b[0;36m5\u001b[0m\u001b[0;34m,\u001b[0m\u001b[0;36m7\u001b[0m\u001b[0;34m,\u001b[0m\u001b[0;36m9\u001b[0m\u001b[0;34m,\u001b[0m\u001b[0;36m4\u001b[0m\u001b[0;34m]\u001b[0m\u001b[0;34m,\u001b[0m \u001b[0;34m[\u001b[0m\u001b[0;36m1\u001b[0m\u001b[0;34m,\u001b[0m\u001b[0;36m6\u001b[0m\u001b[0;34m,\u001b[0m\u001b[0;36m3\u001b[0m\u001b[0;34m,\u001b[0m\u001b[0;36m9\u001b[0m\u001b[0;34m]\u001b[0m\u001b[0;34m]\u001b[0m\u001b[0;34m)\u001b[0m\u001b[0;34m\u001b[0m\u001b[0;34m\u001b[0m\u001b[0m\n\u001b[1;32m      7\u001b[0m \u001b[0;34m\u001b[0m\u001b[0m\n\u001b[0;32m----> 8\u001b[0;31m \u001b[0mt3\u001b[0m \u001b[0;34m=\u001b[0m \u001b[0mt1\u001b[0m \u001b[0;34m+\u001b[0m \u001b[0mt2\u001b[0m\u001b[0;34m\u001b[0m\u001b[0;34m\u001b[0m\u001b[0m\n\u001b[0m",
            "\u001b[0;32m/usr/local/lib/python3.11/dist-packages/tensorflow/python/ops/variables.py\u001b[0m in \u001b[0;36m_run_op\u001b[0;34m(a, *args, **kwargs)\u001b[0m\n\u001b[1;32m   1014\u001b[0m     \u001b[0;32mdef\u001b[0m \u001b[0m_run_op\u001b[0m\u001b[0;34m(\u001b[0m\u001b[0ma\u001b[0m\u001b[0;34m,\u001b[0m \u001b[0;34m*\u001b[0m\u001b[0margs\u001b[0m\u001b[0;34m,\u001b[0m \u001b[0;34m**\u001b[0m\u001b[0mkwargs\u001b[0m\u001b[0;34m)\u001b[0m\u001b[0;34m:\u001b[0m\u001b[0;34m\u001b[0m\u001b[0;34m\u001b[0m\u001b[0m\n\u001b[1;32m   1015\u001b[0m       \u001b[0;31m# pylint: disable=protected-access\u001b[0m\u001b[0;34m\u001b[0m\u001b[0;34m\u001b[0m\u001b[0m\n\u001b[0;32m-> 1016\u001b[0;31m       \u001b[0;32mreturn\u001b[0m \u001b[0mtensor_oper\u001b[0m\u001b[0;34m(\u001b[0m\u001b[0ma\u001b[0m\u001b[0;34m.\u001b[0m\u001b[0mvalue\u001b[0m\u001b[0;34m(\u001b[0m\u001b[0;34m)\u001b[0m\u001b[0;34m,\u001b[0m \u001b[0;34m*\u001b[0m\u001b[0margs\u001b[0m\u001b[0;34m,\u001b[0m \u001b[0;34m**\u001b[0m\u001b[0mkwargs\u001b[0m\u001b[0;34m)\u001b[0m\u001b[0;34m\u001b[0m\u001b[0;34m\u001b[0m\u001b[0m\n\u001b[0m\u001b[1;32m   1017\u001b[0m \u001b[0;34m\u001b[0m\u001b[0m\n\u001b[1;32m   1018\u001b[0m     \u001b[0mfunctools\u001b[0m\u001b[0;34m.\u001b[0m\u001b[0mupdate_wrapper\u001b[0m\u001b[0;34m(\u001b[0m\u001b[0m_run_op\u001b[0m\u001b[0;34m,\u001b[0m \u001b[0mtensor_oper\u001b[0m\u001b[0;34m)\u001b[0m\u001b[0;34m\u001b[0m\u001b[0;34m\u001b[0m\u001b[0m\n",
            "\u001b[0;32m/usr/local/lib/python3.11/dist-packages/tensorflow/python/util/traceback_utils.py\u001b[0m in \u001b[0;36merror_handler\u001b[0;34m(*args, **kwargs)\u001b[0m\n\u001b[1;32m    151\u001b[0m     \u001b[0;32mexcept\u001b[0m \u001b[0mException\u001b[0m \u001b[0;32mas\u001b[0m \u001b[0me\u001b[0m\u001b[0;34m:\u001b[0m\u001b[0;34m\u001b[0m\u001b[0;34m\u001b[0m\u001b[0m\n\u001b[1;32m    152\u001b[0m       \u001b[0mfiltered_tb\u001b[0m \u001b[0;34m=\u001b[0m \u001b[0m_process_traceback_frames\u001b[0m\u001b[0;34m(\u001b[0m\u001b[0me\u001b[0m\u001b[0;34m.\u001b[0m\u001b[0m__traceback__\u001b[0m\u001b[0;34m)\u001b[0m\u001b[0;34m\u001b[0m\u001b[0;34m\u001b[0m\u001b[0m\n\u001b[0;32m--> 153\u001b[0;31m       \u001b[0;32mraise\u001b[0m \u001b[0me\u001b[0m\u001b[0;34m.\u001b[0m\u001b[0mwith_traceback\u001b[0m\u001b[0;34m(\u001b[0m\u001b[0mfiltered_tb\u001b[0m\u001b[0;34m)\u001b[0m \u001b[0;32mfrom\u001b[0m \u001b[0;32mNone\u001b[0m\u001b[0;34m\u001b[0m\u001b[0;34m\u001b[0m\u001b[0m\n\u001b[0m\u001b[1;32m    154\u001b[0m     \u001b[0;32mfinally\u001b[0m\u001b[0;34m:\u001b[0m\u001b[0;34m\u001b[0m\u001b[0;34m\u001b[0m\u001b[0m\n\u001b[1;32m    155\u001b[0m       \u001b[0;32mdel\u001b[0m \u001b[0mfiltered_tb\u001b[0m\u001b[0;34m\u001b[0m\u001b[0;34m\u001b[0m\u001b[0m\n",
            "\u001b[0;32m/usr/local/lib/python3.11/dist-packages/tensorflow/python/framework/ops.py\u001b[0m in \u001b[0;36mraise_from_not_ok_status\u001b[0;34m(e, name)\u001b[0m\n\u001b[1;32m   6000\u001b[0m \u001b[0;32mdef\u001b[0m \u001b[0mraise_from_not_ok_status\u001b[0m\u001b[0;34m(\u001b[0m\u001b[0me\u001b[0m\u001b[0;34m,\u001b[0m \u001b[0mname\u001b[0m\u001b[0;34m)\u001b[0m \u001b[0;34m->\u001b[0m \u001b[0mNoReturn\u001b[0m\u001b[0;34m:\u001b[0m\u001b[0;34m\u001b[0m\u001b[0;34m\u001b[0m\u001b[0m\n\u001b[1;32m   6001\u001b[0m   \u001b[0me\u001b[0m\u001b[0;34m.\u001b[0m\u001b[0mmessage\u001b[0m \u001b[0;34m+=\u001b[0m \u001b[0;34m(\u001b[0m\u001b[0;34m\" name: \"\u001b[0m \u001b[0;34m+\u001b[0m \u001b[0mstr\u001b[0m\u001b[0;34m(\u001b[0m\u001b[0mname\u001b[0m \u001b[0;32mif\u001b[0m \u001b[0mname\u001b[0m \u001b[0;32mis\u001b[0m \u001b[0;32mnot\u001b[0m \u001b[0;32mNone\u001b[0m \u001b[0;32melse\u001b[0m \u001b[0;34m\"\"\u001b[0m\u001b[0;34m)\u001b[0m\u001b[0;34m)\u001b[0m\u001b[0;34m\u001b[0m\u001b[0;34m\u001b[0m\u001b[0m\n\u001b[0;32m-> 6002\u001b[0;31m   \u001b[0;32mraise\u001b[0m \u001b[0mcore\u001b[0m\u001b[0;34m.\u001b[0m\u001b[0m_status_to_exception\u001b[0m\u001b[0;34m(\u001b[0m\u001b[0me\u001b[0m\u001b[0;34m)\u001b[0m \u001b[0;32mfrom\u001b[0m \u001b[0;32mNone\u001b[0m  \u001b[0;31m# pylint: disable=protected-access\u001b[0m\u001b[0;34m\u001b[0m\u001b[0;34m\u001b[0m\u001b[0m\n\u001b[0m\u001b[1;32m   6003\u001b[0m \u001b[0;34m\u001b[0m\u001b[0m\n\u001b[1;32m   6004\u001b[0m \u001b[0;34m\u001b[0m\u001b[0m\n",
            "\u001b[0;31mInvalidArgumentError\u001b[0m: {{function_node __wrapped__AddV2_device_/job:localhost/replica:0/task:0/device:CPU:0}} Incompatible shapes: [4,3] vs. [3,4] [Op:AddV2] name: "
          ]
        }
      ]
    },
    {
      "cell_type": "code",
      "source": [
        "# Example for matrix multiplication\n",
        "import tensorflow as tf\n",
        "\n",
        "x = tf.Variable([[0,1,2,3,4],[1,2,3,4,5],[2,3,4,5,6],[3,4,5,6,7],[4,5,6,7,8]])\n",
        "y = tf.Variable([[0,5,10],[5,10,15],[10,15,20],[15,20,25],[20,25,30]]) # matrix sizes (5 x 5) and (5 x 3) are compatible for multiplication\n",
        "#y = tf.Variable([[0,5,10],[5,10,15],[10,15,20],[15,20,25]]) # throws exception since matrix sizes (5 x 5) and (4 x 3) are incompatible for multiplication\n",
        "\n",
        "z = tf.linalg.matmul(x, y)\n",
        "print(\"z: \", z)"
      ],
      "metadata": {
        "colab": {
          "base_uri": "https://localhost:8080/"
        },
        "id": "Gg1qLUbnWtU8",
        "outputId": "04cffa95-cc80-40bd-fe2d-f1559a9d2b10"
      },
      "execution_count": 5,
      "outputs": [
        {
          "output_type": "stream",
          "name": "stdout",
          "text": [
            "z:  tf.Tensor(\n",
            "[[150 200 250]\n",
            " [200 275 350]\n",
            " [250 350 450]\n",
            " [300 425 550]\n",
            " [350 500 650]], shape=(5, 3), dtype=int32)\n"
          ]
        }
      ]
    },
    {
      "cell_type": "code",
      "source": [
        "# Example for matrix inverse\n",
        "import tensorflow as tf\n",
        "\n",
        "try:\n",
        "#  x = tf.Variable([[1,2],[2,4]]) # throws exception as datatype should be float or double etc\n",
        "#  x = tf.Variable([[1,2],[2,4]], dtype = tf.float32) # throws exception as determinant is zero ie. 1 x 4 - 2 x 2 = 0\n",
        "  x = tf.Variable([[1,2],[4,10]], dtype = tf.float32)\n",
        "  xdet = tf.linalg.det(x)\n",
        "  xinv = tf.linalg.inv(x)\n",
        "  print(\"Matrix x: \\n\", x)\n",
        "  print(\"\\nDeterminant of x: \", xdet)\n",
        "  print(\"\\nInverse of x: \\n\", xinv)\n",
        "except Exception as e:\n",
        "  print(\"Exception raised while performing inverse of x:\\n\", str(e))"
      ],
      "metadata": {
        "colab": {
          "base_uri": "https://localhost:8080/"
        },
        "id": "HN7E5Jc92Ipf",
        "outputId": "7a479973-1360-4c40-b6d7-984247141ff3"
      },
      "execution_count": 15,
      "outputs": [
        {
          "output_type": "stream",
          "name": "stdout",
          "text": [
            "Matrix x: \n",
            " <tf.Variable 'Variable:0' shape=(2, 2) dtype=float32, numpy=\n",
            "array([[ 1.,  2.],\n",
            "       [ 4., 10.]], dtype=float32)>\n",
            "\n",
            "Determinant of x:  tf.Tensor(2.0, shape=(), dtype=float32)\n",
            "\n",
            "Inverse of x: \n",
            " tf.Tensor(\n",
            "[[ 5.  -1. ]\n",
            " [-2.   0.5]], shape=(2, 2), dtype=float32)\n"
          ]
        }
      ]
    },
    {
      "cell_type": "code",
      "source": [
        "# Example of solution for simulaneous linear equation W.X = Y\n",
        "# x + y + z + w = 13\n",
        "# 2x + 3y - w = -1\n",
        "# -3x + 4y + z + 2w = 10\n",
        "# x + 2y -z + w = 1\n",
        "# Ans: x=2, y=0, z=6, w=5\n",
        "\n",
        "import tensorflow as tf\n",
        "\n",
        "# Initialize coefficient matrix\n",
        "w = tf.constant([[1, 1, 1, 1], [2, 3, 0, -1], [-3, 4, 1, 2], [1, 2, -1, 1]], dtype=tf.float32)\n",
        "print(\"Coefficient matrix W: \\n\", w)\n",
        "\n",
        "# Initialize output matrix\n",
        "y = tf.constant([[13], [-1], [10], [1]], dtype=tf.float32)\n",
        "print(\"\\nOutput matrix Y: \\n\", y)\n",
        "\n",
        "# Do matrix multiplication of inverse of W with Y to get X (solution)\n",
        "winv = tf.linalg.inv(w)\n",
        "print(\"\\nInverse of coefficient matrix W: \", winv)\n",
        "x = tf.linalg.matmul(winv, y)\n",
        "print(\"\\nSolution matrix X: \\n\", x)\n",
        "\n",
        "# Forcing the values to integer data type after rounding\n",
        "#xint = tf.cast(tf.math.round(x), dtype=tf.int32) # does both rounding and casting to integer\n",
        "xint = tf.math.round(x) # does only rounding\n",
        "print(\"\\nSolution matrix X (integer vals): \\n\", xint)"
      ],
      "metadata": {
        "colab": {
          "base_uri": "https://localhost:8080/"
        },
        "id": "CqTSiCyc879B",
        "outputId": "ac473d03-7b33-4de5-9358-805b81cb2225"
      },
      "execution_count": 28,
      "outputs": [
        {
          "output_type": "stream",
          "name": "stdout",
          "text": [
            "Coefficient matrix W: \n",
            " tf.Tensor(\n",
            "[[ 1.  1.  1.  1.]\n",
            " [ 2.  3.  0. -1.]\n",
            " [-3.  4.  1.  2.]\n",
            " [ 1.  2. -1.  1.]], shape=(4, 4), dtype=float32)\n",
            "\n",
            "Output matrix Y: \n",
            " tf.Tensor(\n",
            "[[13.]\n",
            " [-1.]\n",
            " [10.]\n",
            " [ 1.]], shape=(4, 1), dtype=float32)\n",
            "\n",
            "Inverse of coefficient matrix W:  tf.Tensor(\n",
            "[[ 2.77777791e-01  5.55555224e-02 -1.66666672e-01  1.11111104e-01]\n",
            " [-7.40740746e-02  1.85185164e-01  1.11111104e-01  3.70370336e-02]\n",
            " [ 4.62962925e-01  9.25926119e-02  5.55555634e-02 -4.81481493e-01]\n",
            " [ 3.33333343e-01 -3.33333343e-01 -9.93410776e-09  3.33333343e-01]], shape=(4, 4), dtype=float32)\n",
            "\n",
            "Solution matrix X: \n",
            " tf.Tensor(\n",
            "[[ 2.0000000e+00]\n",
            " [-1.0058284e-07]\n",
            " [ 5.9999995e+00]\n",
            " [ 5.0000005e+00]], shape=(4, 1), dtype=float32)\n",
            "\n",
            "Solution matrix X (integer vals): \n",
            " tf.Tensor(\n",
            "[[ 2.]\n",
            " [-0.]\n",
            " [ 6.]\n",
            " [ 5.]], shape=(4, 1), dtype=float32)\n"
          ]
        }
      ]
    },
    {
      "cell_type": "code",
      "source": [
        "# upGrad exercise on regression\n",
        "# W.X + B = Y\n",
        "\n",
        "import tensorflow as tf\n",
        "\n",
        "# Initialize coefficient matrix\n",
        "w = tf.constant([[0.5, 1, -1.2, 0.01]], dtype=tf.float32) # using homogenous coefficients ie. include b in matrix W and use input=1\n",
        "print(\"Coefficient matrix W: \\n\", w)\n",
        "\n",
        "# Initialize input matrix\n",
        "x = tf.constant([[0.2], [1], [0.5], [1]], dtype=tf.float32)\n",
        "print(\"\\nInput matrix X: \\n\", x)\n",
        "\n",
        "# Do matrix multiplication of W with X to get Z (cumulative input)\n",
        "z = tf.linalg.matmul(w, x)\n",
        "print(\"\\nSolution Y: \\n\", z)\n",
        "\n",
        "# Give cumulative output Z to activation function H to get output probability\n",
        "h = tf.math.sigmoid(z)\n",
        "print(\"\\nOutput probability H: \", h)"
      ],
      "metadata": {
        "colab": {
          "base_uri": "https://localhost:8080/"
        },
        "id": "h5ApBvb0DHvv",
        "outputId": "7fd6844b-8f4d-4a0a-863b-be9b4d8ec714"
      },
      "execution_count": 32,
      "outputs": [
        {
          "output_type": "stream",
          "name": "stdout",
          "text": [
            "Coefficient matrix W: \n",
            " tf.Tensor([[ 0.5   1.   -1.2   0.01]], shape=(1, 4), dtype=float32)\n",
            "\n",
            "Input matrix X: \n",
            " tf.Tensor(\n",
            "[[0.2]\n",
            " [1. ]\n",
            " [0.5]\n",
            " [1. ]], shape=(4, 1), dtype=float32)\n",
            "\n",
            "Solution Y: \n",
            " tf.Tensor([[0.51]], shape=(1, 1), dtype=float32)\n",
            "\n",
            "Output probability H:  tf.Tensor([[0.62480646]], shape=(1, 1), dtype=float32)\n"
          ]
        }
      ]
    }
  ]
}